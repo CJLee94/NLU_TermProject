{
 "cells": [
  {
   "cell_type": "markdown",
   "id": "olympic-framing",
   "metadata": {},
   "source": [
    "## A test for applying BERT to cloze task\n",
    "\n",
    "According to the answer from github [How can I apply Bert to a cloze task](https://github.com/huggingface/transformers/issues/80#issuecomment-444445782)"
   ]
  },
  {
   "cell_type": "code",
   "execution_count": 1,
   "id": "blessed-boutique",
   "metadata": {},
   "outputs": [
    {
     "name": "stdout",
     "output_type": "stream",
     "text": [
      "The most likely word is \"enjoy\".\n"
     ]
    }
   ],
   "source": [
    "import torch\n",
    "from pytorch_pretrained_bert import BertTokenizer, BertModel, BertForMaskedLM\n",
    "\n",
    "tokenizer = BertTokenizer.from_pretrained('bert-base-uncased')\n",
    "text = 'From Monday to Friday most people are busy working or studying, '\\\n",
    "       'but in the evenings and weekends they are free and _ themselves.'\n",
    "tokenized_text = tokenizer.tokenize(text)\n",
    "\n",
    "masked_index = tokenized_text.index('_')\n",
    "tokenized_text[masked_index] = '[MASK]'\n",
    "\n",
    "candidates = ['love', 'work', 'enjoy', 'play']\n",
    "candidates_ids = tokenizer.convert_tokens_to_ids(candidates)\n",
    "\n",
    "indexed_tokens = tokenizer.convert_tokens_to_ids(tokenized_text)\n",
    "\n",
    "segments_ids = [0] * len(tokenized_text)\n",
    "\n",
    "tokens_tensor = torch.tensor([indexed_tokens])\n",
    "segments_tensors = torch.tensor([segments_ids])\n",
    "\n",
    "language_model = BertForMaskedLM.from_pretrained('bert-base-uncased')\n",
    "language_model.eval()\n",
    "\n",
    "predictions = language_model(tokens_tensor, segments_tensors)\n",
    "predictions_candidates = predictions[0, masked_index, candidates_ids]\n",
    "answer_idx = torch.argmax(predictions_candidates).item()\n",
    "\n",
    "print(f'The most likely word is \"{candidates[answer_idx]}\".')"
   ]
  },
  {
   "cell_type": "markdown",
   "id": "ethical-plaintiff",
   "metadata": {},
   "source": [
    "## Experiment of applying AUM to Bert based method"
   ]
  },
  {
   "cell_type": "code",
   "execution_count": 29,
   "id": "tender-rover",
   "metadata": {},
   "outputs": [],
   "source": [
    "from pytorch_pretrained_bert import BertForSequenceClassification\n",
    "from pytorch_pretrained_bert import BertConfig\n",
    "import torch\n",
    "import torch.optim as optim\n",
    "from torch.utils.tensorboard import SummaryWriter"
   ]
  },
  {
   "cell_type": "code",
   "execution_count": 45,
   "id": "simplified-mathematics",
   "metadata": {},
   "outputs": [],
   "source": [
    "def Trainer(batch_size, epoch = 50, n_classes = 2, vocab_size = 30522):\n",
    "    writer = Summary\n",
    "    \n",
    "    config = BertConfig(vocab_size)\n",
    "    model = BertForSequenceClassification(config, n_classes)\n",
    "    dataset = get_dataset()\n",
    "    dataloader = get_dataloader()\n",
    "    criterion = torch.nn.CrossEntropyLoss()\n",
    "    optimizer = optim.Adam(lr = 0.0001)\n",
    "    aum = torch.zeros([len(dataset), epoch, n_classes])\n",
    "    \n",
    "    for e in range(epoch):\n",
    "        logits_store = torch.zeros([len(dataset), n_classes])\n",
    "        for idx, batch in enumerate(dataloader):\n",
    "            sample_idx, text_in, labels = batch\n",
    "            logits = model(text_in)\n",
    "            \n",
    "            logits_store[sample_idx] = logits\n",
    "            \n",
    "            loss = criterion(logits, labels)\n",
    "            loss.backward()\n",
    "            optimizer.step()\n",
    "        logits_topk, logits_topk_ind = torch.topk(logits_store, 2, 0)\n",
    "        aum = logits_store - logits_topk[0][None]\n",
    "        aum[logits_topk_ind[0,0], , 0] = logits[logits_topk_ind[0,0], 0] - logits_topk[1, 0]\n",
    "        aum[logits_topk_ind[0,1], 1] = logits[logits_topk_ind[0,1], 1] - logits_topk[1, 1]\n",
    "        \n",
    "        attention_index = #Need the attention index"
   ]
  },
  {
   "cell_type": "code",
   "execution_count": 24,
   "id": "federal-tiffany",
   "metadata": {},
   "outputs": [
    {
     "name": "stdout",
     "output_type": "stream",
     "text": [
      "torch.Size([1, 2, 30522])\n",
      "torch.Size([1, 2, 30522])\n"
     ]
    }
   ],
   "source": [
    "value, ind = torch.topk(predictions, 2, 1)\n",
    "print(value.shape)\n",
    "print(ind.shape)"
   ]
  },
  {
   "cell_type": "code",
   "execution_count": 25,
   "id": "registered-hardwood",
   "metadata": {},
   "outputs": [],
   "source": [
    "import json\n",
    "\n",
    "data = []\n",
    "with open(\"./multinli_1.0/multinli_1.0_train.jsonl\") as f:\n",
    "    for line in f:\n",
    "        data.append(json.loads(line))"
   ]
  },
  {
   "cell_type": "code",
   "execution_count": 26,
   "id": "editorial-postcard",
   "metadata": {},
   "outputs": [
    {
     "data": {
      "text/plain": [
       "392702"
      ]
     },
     "execution_count": 26,
     "metadata": {},
     "output_type": "execute_result"
    }
   ],
   "source": [
    "len(data)"
   ]
  },
  {
   "cell_type": "code",
   "execution_count": 55,
   "id": "early-eligibility",
   "metadata": {},
   "outputs": [
    {
     "name": "stdout",
     "output_type": "stream",
     "text": [
      "Help on class BertConfig in module pytorch_pretrained_bert.modeling:\n",
      "\n",
      "class BertConfig(builtins.object)\n",
      " |  Configuration class to store the configuration of a `BertModel`.\n",
      " |  \n",
      " |  Methods defined here:\n",
      " |  \n",
      " |  __init__(self, vocab_size_or_config_json_file, hidden_size=768, num_hidden_layers=12, num_attention_heads=12, intermediate_size=3072, hidden_act='gelu', hidden_dropout_prob=0.1, attention_probs_dropout_prob=0.1, max_position_embeddings=512, type_vocab_size=2, initializer_range=0.02)\n",
      " |      Constructs BertConfig.\n",
      " |      \n",
      " |      Args:\n",
      " |          vocab_size_or_config_json_file: Vocabulary size of `inputs_ids` in `BertModel`.\n",
      " |          hidden_size: Size of the encoder layers and the pooler layer.\n",
      " |          num_hidden_layers: Number of hidden layers in the Transformer encoder.\n",
      " |          num_attention_heads: Number of attention heads for each attention layer in\n",
      " |              the Transformer encoder.\n",
      " |          intermediate_size: The size of the \"intermediate\" (i.e., feed-forward)\n",
      " |              layer in the Transformer encoder.\n",
      " |          hidden_act: The non-linear activation function (function or string) in the\n",
      " |              encoder and pooler. If string, \"gelu\", \"relu\" and \"swish\" are supported.\n",
      " |          hidden_dropout_prob: The dropout probabilitiy for all fully connected\n",
      " |              layers in the embeddings, encoder, and pooler.\n",
      " |          attention_probs_dropout_prob: The dropout ratio for the attention\n",
      " |              probabilities.\n",
      " |          max_position_embeddings: The maximum sequence length that this model might\n",
      " |              ever be used with. Typically set this to something large just in case\n",
      " |              (e.g., 512 or 1024 or 2048).\n",
      " |          type_vocab_size: The vocabulary size of the `token_type_ids` passed into\n",
      " |              `BertModel`.\n",
      " |          initializer_range: The sttdev of the truncated_normal_initializer for\n",
      " |              initializing all weight matrices.\n",
      " |  \n",
      " |  __repr__(self)\n",
      " |      Return repr(self).\n",
      " |  \n",
      " |  to_dict(self)\n",
      " |      Serializes this instance to a Python dictionary.\n",
      " |  \n",
      " |  to_json_file(self, json_file_path)\n",
      " |      Save this instance to a json file.\n",
      " |  \n",
      " |  to_json_string(self)\n",
      " |      Serializes this instance to a JSON string.\n",
      " |  \n",
      " |  ----------------------------------------------------------------------\n",
      " |  Class methods defined here:\n",
      " |  \n",
      " |  from_dict(json_object) from builtins.type\n",
      " |      Constructs a `BertConfig` from a Python dictionary of parameters.\n",
      " |  \n",
      " |  from_json_file(json_file) from builtins.type\n",
      " |      Constructs a `BertConfig` from a json file of parameters.\n",
      " |  \n",
      " |  ----------------------------------------------------------------------\n",
      " |  Data descriptors defined here:\n",
      " |  \n",
      " |  __dict__\n",
      " |      dictionary for instance variables (if defined)\n",
      " |  \n",
      " |  __weakref__\n",
      " |      list of weak references to the object (if defined)\n",
      "\n"
     ]
    }
   ],
   "source": [
    "help(BertConfig)"
   ]
  }
 ],
 "metadata": {
  "kernelspec": {
   "display_name": "NLP",
   "language": "python",
   "name": "nlp"
  },
  "language_info": {
   "codemirror_mode": {
    "name": "ipython",
    "version": 3
   },
   "file_extension": ".py",
   "mimetype": "text/x-python",
   "name": "python",
   "nbconvert_exporter": "python",
   "pygments_lexer": "ipython3",
   "version": "3.6.12"
  }
 },
 "nbformat": 4,
 "nbformat_minor": 5
}
