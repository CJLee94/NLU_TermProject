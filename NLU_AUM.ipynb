{
 "cells": [
  {
   "cell_type": "markdown",
   "id": "olympic-framing",
   "metadata": {},
   "source": [
    "## A test for applying BERT to cloze task\n",
    "\n",
    "According to the answer from github [How can I apply Bert to a cloze task](https://github.com/huggingface/transformers/issues/80#issuecomment-444445782)"
   ]
  },
  {
   "cell_type": "code",
   "execution_count": 1,
   "id": "blessed-boutique",
   "metadata": {},
   "outputs": [
    {
     "name": "stdout",
     "output_type": "stream",
     "text": [
      "The most likely word is \"enjoy\".\n"
     ]
    }
   ],
   "source": [
    "import torch\n",
    "from pytorch_pretrained_bert import BertTokenizer, BertModel, BertForMaskedLM\n",
    "\n",
    "tokenizer = BertTokenizer.from_pretrained('bert-base-uncased')\n",
    "text = 'From Monday to Friday most people are busy working or studying, '\\\n",
    "       'but in the evenings and weekends they are free and _ themselves.'\n",
    "tokenized_text = tokenizer.tokenize(text)\n",
    "\n",
    "masked_index = tokenized_text.index('_')\n",
    "tokenized_text[masked_index] = '[MASK]'\n",
    "\n",
    "candidates = ['love', 'work', 'enjoy', 'play']\n",
    "candidates_ids = tokenizer.convert_tokens_to_ids(candidates)\n",
    "\n",
    "indexed_tokens = tokenizer.convert_tokens_to_ids(tokenized_text)\n",
    "\n",
    "segments_ids = [0] * len(tokenized_text)\n",
    "\n",
    "tokens_tensor = torch.tensor([indexed_tokens])\n",
    "segments_tensors = torch.tensor([segments_ids])\n",
    "\n",
    "language_model = BertForMaskedLM.from_pretrained('bert-base-uncased')\n",
    "language_model.eval()\n",
    "\n",
    "predictions = language_model(tokens_tensor, segments_tensors)\n",
    "predictions_candidates = predictions[0, masked_index, candidates_ids]\n",
    "answer_idx = torch.argmax(predictions_candidates).item()\n",
    "\n",
    "print(f'The most likely word is \"{candidates[answer_idx]}\".')"
   ]
  },
  {
   "cell_type": "markdown",
   "id": "ethical-plaintiff",
   "metadata": {},
   "source": [
    "## Experiment of applying AUM to Bert based method"
   ]
  },
  {
   "cell_type": "code",
   "execution_count": 29,
   "id": "tender-rover",
   "metadata": {},
   "outputs": [],
   "source": [
    "from pytorch_pretrained_bert import BertForSequenceClassification\n",
    "from pytorch_pretrained_bert import BertConfig\n",
    "import torch\n",
    "import torch.optim as optim\n",
    "from torch.utils.tensorboard import SummaryWriter"
   ]
  },
  {
   "cell_type": "code",
   "execution_count": 45,
   "id": "simplified-mathematics",
   "metadata": {},
   "outputs": [],
   "source": [
    "def Trainer(batch_size, epoch = 50, n_classes = 2, vocab_size = 30522):\n",
    "    writer = SummaryWriter('runs/NLP_AUM_First')\n",
    "    \n",
    "    config = BertConfig(vocab_size)\n",
    "    model = BertForSequenceClassification(config, n_classes)\n",
    "    dataset = get_dataset()\n",
    "    dataloader = get_dataloader()\n",
    "    criterion = torch.nn.CrossEntropyLoss()\n",
    "    optimizer = optim.Adam(lr = 0.0001)\n",
    "    aum = torch.zeros([epoch, len(dataset), n_classes])\n",
    "    \n",
    "    for e in range(epoch):\n",
    "        logits_store = torch.zeros([len(dataset), n_classes])\n",
    "        for idx, batch in enumerate(dataloader):\n",
    "            sample_idx, text_in, labels = batch\n",
    "            logits = model(text_in)\n",
    "            \n",
    "            logits_store[sample_idx] = logits\n",
    "            \n",
    "            loss = criterion(logits, labels)\n",
    "            loss.backward()\n",
    "            optimizer.step()\n",
    "        logits_topk, logits_topk_ind = torch.topk(logits_store, 2, 0)\n",
    "        aum = logits_store - logits_topk[0][None]\n",
    "        aum[epoch, logits_topk_ind[0,0], 0] = logits[logits_topk_ind[0,0], 0] - logits_topk[1, 0]\n",
    "        aum[epoch, logits_topk_ind[0,1], 1] = logits[logits_topk_ind[0,1], 1] - logits_topk[1, 1]\n",
    "        \n",
    "        attention_index = #Need the attention index to point out the flipped sample\n",
    "        \n",
    "        for ind in attention_index:\n",
    "            writer.add_scalar(\"Sentence {}\".format(ind), aum[ind, ind_cls])"
   ]
  }
 ],
 "metadata": {
  "kernelspec": {
   "display_name": "NLP",
   "language": "python",
   "name": "nlp"
  },
  "language_info": {
   "codemirror_mode": {
    "name": "ipython",
    "version": 3
   },
   "file_extension": ".py",
   "mimetype": "text/x-python",
   "name": "python",
   "nbconvert_exporter": "python",
   "pygments_lexer": "ipython3",
   "version": "3.6.12"
  }
 },
 "nbformat": 4,
 "nbformat_minor": 5
}
